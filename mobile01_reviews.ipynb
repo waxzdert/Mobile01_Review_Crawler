{
 "cells": [
  {
   "cell_type": "code",
   "execution_count": 1,
   "metadata": {},
   "outputs": [],
   "source": [
    "import warnings\n",
    "warnings.filterwarnings('ignore')\n",
    "\n",
    "import re\n",
    "import time\n",
    "import sqlite3\n",
    "import requests\n",
    "from pandas import DataFrame\n",
    "from bs4 import BeautifulSoup\n",
    "from multiprocessing import Pool\n",
    "import datetime"
   ]
  },
  {
   "cell_type": "code",
   "execution_count": 2,
   "metadata": {},
   "outputs": [],
   "source": [
    "def GetPageContent(url):\n",
    "    headers = {'User-Agent': 'Mozilla/5.0 (Macintosh; Intel Mac OS X 10_10_1) AppleWebKit/537.36 (KHTML, like Gecko) Chrome/39.0.2171.95 Safari/537.36'}\n",
    "    res = requests.get(url, headers=headers)\n",
    "    content = BeautifulSoup(res.text)\n",
    "    return content"
   ]
  },
  {
   "cell_type": "code",
   "execution_count": 3,
   "metadata": {},
   "outputs": [],
   "source": [
    "def Parse(content):\n",
    "    #soup = GetPageContent('https://www.mobile01.com/' + url)\n",
    "    #origin = soup.find('div', {'class':'single-post-content'}) # 文章內文在 <div class=\"single-post-content\"> 底下\n",
    "    origin = content\n",
    "    if origin:\n",
    "        content = str(origin)\n",
    "        # replace <br>, <br\\> and '\\n' with a whitespace########\n",
    "        content = re.sub(\"<br\\s*>\", \" \", content, flags=re.I)  #\n",
    "        content = re.sub(\"<br\\s*/>\", \" \", content, flags=re.I) #\n",
    "        content = re.sub(\"\\n+\", \" \", content, flags=re.I)      #\n",
    "        ########################################################\n",
    "        # remove hyperlink\n",
    "        content = re.sub(\"<a\\s+[^<>]+>(?P<aContent>[^<>]+?)</a>\", \"\\g<aContent>\", content, flags=re.I)\n",
    "        content = BeautifulSoup(content)\n",
    "        content = ' '.join(content.text.lstrip().rstrip().split())\n",
    "    else:\n",
    "        content = 'None'\n",
    "\n",
    "    return content"
   ]
  },
  {
   "cell_type": "code",
   "execution_count": 4,
   "metadata": {},
   "outputs": [],
   "source": [
    "def GetPageReviews(url):\n",
    "    All_page_Contents = GetPageContent(url)\n",
    "    Review_list = All_page_Contents.find_all('div',{'class':'l-articlePage'})\n",
    "    \n",
    "    resp = list()\n",
    "    \n",
    "    for i in range(len(Review_list)):\n",
    "        if(Review_list[i].find('article') == None):\n",
    "            pass\n",
    "        else:\n",
    "            date = datetime.datetime.strptime((Review_list[i].find('span',{'class':'o-fNotes o-fSubMini'})).text[0:10], '%Y-%m-%d')\n",
    "            time = datetime.datetime.strptime((Review_list[i].find('span',{'class':'o-fNotes o-fSubMini'})).text[11:19], '%H:%M')\n",
    "            topic = All_page_Contents.find('h2',{'class':'t2'}).text    \n",
    "            review = Parse(Review_list[i].find('article').text) \n",
    "            id = Parse(Review_list[i])\n",
    "\n",
    "            resp.append({\n",
    "                'date':date,\n",
    "                'time':time,\n",
    "                'topic':topic,\n",
    "                'review':review,\n",
    "                'id':id,\n",
    "                'url':url\n",
    "            })\n",
    "        \n",
    "    return resp"
   ]
  },
  {
   "cell_type": "code",
   "execution_count": 5,
   "metadata": {},
   "outputs": [],
   "source": [
    "#url = 'https://www.mobile01.com/topicdetail.php?f=233&t=5860568'\n",
    "#All_page_Contents = GetPageContent(url)\n",
    "#Review_list = All_page_Contents.find_all('div',{'class':'l-articlePage'})\n",
    "#(Review_list[8].find('span',{'class':'o-fNotes o-fSubMini'})).text[11:19]\n",
    "#datetime.datetime.strptime((Review_list[0].find('span',{'class':'o-fNotes o-fSubMini'})).text[11:19], '%H:%M')"
   ]
  },
  {
   "cell_type": "code",
   "execution_count": 6,
   "metadata": {},
   "outputs": [],
   "source": [
    "def Save2Excel(posts):\n",
    "    topics = [entry['topic'] for entry in posts]\n",
    "    links = [entry['url'] for entry in posts]\n",
    "    dates = [entry['date'] for entry in posts]\n",
    "    times = [entry['time'] for entry in posts]\n",
    "    authors = [entry['id'] for entry in posts]\n",
    "    contents = [entry['review'] for entry in posts]\n",
    "    df = DataFrame({\n",
    "        '主題':topics,\n",
    "        'URL':links,\n",
    "        '日期': dates,\n",
    "        '時間':times,\n",
    "        'id':authors,\n",
    "        '留言': contents\n",
    "        })\n",
    "    \n",
    "    output_name = input('請輸入輸出檔名')\n",
    "    \n",
    "    final_name = output_name + '.xlsx'\n",
    "    \n",
    "    df.to_excel(final_name, sheet_name='sheet1', index=False, columns=['發文周','日期','時間','Series','主題','id','留言','留言好感度','留言Feature','URL','留言型號','非競品品牌','非競品型號','文章好感度','文章feature'])"
   ]
  },
  {
   "cell_type": "code",
   "execution_count": 7,
   "metadata": {},
   "outputs": [],
   "source": [
    "def GetTotalPage(url):\n",
    "    \n",
    "    total_page = 0\n",
    "    \n",
    "    All_Page_Content = GetPageContent(url)\n",
    "    Pagination_Block = All_Page_Content.find('div',{'class':'l-navigation__item l-navigation__item--min'})\n",
    "    if((Pagination_Block.text) == '\\n'):\n",
    "        total_page = 1\n",
    "    else:\n",
    "        Page_list = Pagination_Block.find_all('a',{'class':'c-pagination'})\n",
    "\n",
    "        for i in range(len(Page_list)):\n",
    "            temp = Parse(Page_list[i])\n",
    "\n",
    "        total_page = int(temp)\n",
    "\n",
    "    return total_page"
   ]
  },
  {
   "cell_type": "code",
   "execution_count": 8,
   "metadata": {},
   "outputs": [],
   "source": [
    "def MoreThanOnePage(url):\n",
    "    \n",
    "    total_page = GetTotalPage(url)\n",
    "    \n",
    "    all_reviews = list()\n",
    "    \n",
    "    for i in range(1,total_page+1):\n",
    "        new_url = url + '&p=' + str(i)\n",
    "        page_reviews = GetPageReviews(new_url)\n",
    "        all_reviews = all_reviews + page_reviews\n",
    "        \n",
    "    return all_reviews"
   ]
  },
  {
   "cell_type": "code",
   "execution_count": 9,
   "metadata": {},
   "outputs": [],
   "source": [
    "def Read_URL():\n",
    "    url_list = list()\n",
    "    file_name = input('請輸入要讀取的txt檔(請加上附檔名)')\n",
    "    file = open(file_name, 'r')\n",
    "    for line in file:\n",
    "        url = line.replace('\\n', '').split(' ')\n",
    "        url_list = url_list+url\n",
    "    file.close()\n",
    "    return url_list"
   ]
  },
  {
   "cell_type": "code",
   "execution_count": 10,
   "metadata": {},
   "outputs": [],
   "source": [
    "def main():\n",
    "    topic_list = list()\n",
    "    all_reviews_list = list()\n",
    "    \n",
    "    topic_list = Read_URL()\n",
    "    \n",
    "    for i in range(len(topic_list)):\n",
    "        temp = MoreThanOnePage(topic_list[i])\n",
    "        all_reviews_list = all_reviews_list + temp\n",
    "        \n",
    "    Save2Excel(all_reviews_list)\n",
    "\n"
   ]
  },
  {
   "cell_type": "code",
   "execution_count": 12,
   "metadata": {},
   "outputs": [],
   "source": [
    "main()"
   ]
  },
  {
   "cell_type": "code",
   "execution_count": 24,
   "metadata": {},
   "outputs": [],
   "source": [
    "today = datetime.datetime.now()"
   ]
  },
  {
   "cell_type": "code",
   "execution_count": 25,
   "metadata": {},
   "outputs": [
    {
     "data": {
      "text/plain": [
       "datetime.datetime(2019, 8, 7, 11, 29, 58, 313720)"
      ]
     },
     "execution_count": 25,
     "metadata": {},
     "output_type": "execute_result"
    }
   ],
   "source": [
    "today"
   ]
  },
  {
   "cell_type": "code",
   "execution_count": 15,
   "metadata": {},
   "outputs": [],
   "source": [
    "All_page_Contents = GetPageContent('https://www.mobile01.com/topicdetail.php?f=233&t=5860568')\n",
    "Review_list = All_page_Contents.find_all('div',{'class':'l-articlePage'})"
   ]
  },
  {
   "cell_type": "code",
   "execution_count": 21,
   "metadata": {},
   "outputs": [],
   "source": [
    "Reviews_date = datetime.datetime.strptime((Review_list[0].find('span',{'class':'o-fNotes o-fSubMini'})).text[0:10], '%Y-%m-%d')"
   ]
  },
  {
   "cell_type": "code",
   "execution_count": 22,
   "metadata": {},
   "outputs": [
    {
     "data": {
      "text/plain": [
       "datetime.datetime(2019, 8, 1, 0, 0)"
      ]
     },
     "execution_count": 22,
     "metadata": {},
     "output_type": "execute_result"
    }
   ],
   "source": [
    "Reviews_date"
   ]
  },
  {
   "cell_type": "code",
   "execution_count": 29,
   "metadata": {},
   "outputs": [
    {
     "data": {
      "text/plain": [
       "int"
      ]
     },
     "execution_count": 29,
     "metadata": {},
     "output_type": "execute_result"
    }
   ],
   "source": [
    "type((today - Reviews_date).days)"
   ]
  },
  {
   "cell_type": "code",
   "execution_count": null,
   "metadata": {},
   "outputs": [],
   "source": [
    "type"
   ]
  }
 ],
 "metadata": {
  "kernelspec": {
   "display_name": "Python 3",
   "language": "python",
   "name": "python3"
  },
  "language_info": {
   "codemirror_mode": {
    "name": "ipython",
    "version": 3
   },
   "file_extension": ".py",
   "mimetype": "text/x-python",
   "name": "python",
   "nbconvert_exporter": "python",
   "pygments_lexer": "ipython3",
   "version": "3.7.3"
  }
 },
 "nbformat": 4,
 "nbformat_minor": 2
}
