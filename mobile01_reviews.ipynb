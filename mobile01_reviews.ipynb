{
 "cells": [
  {
   "cell_type": "code",
   "execution_count": 24,
   "metadata": {},
   "outputs": [],
   "source": [
    "import warnings\n",
    "warnings.filterwarnings('ignore')\n",
    "\n",
    "import re\n",
    "import time\n",
    "import sqlite3\n",
    "import requests\n",
    "from pandas import DataFrame\n",
    "from bs4 import BeautifulSoup\n",
    "from multiprocessing import Pool\n",
    "import datetime"
   ]
  },
  {
   "cell_type": "code",
   "execution_count": 2,
   "metadata": {},
   "outputs": [],
   "source": [
    "def GetPageContent(url):\n",
    "    headers = {'User-Agent': 'Mozilla/5.0 (Macintosh; Intel Mac OS X 10_10_1) AppleWebKit/537.36 (KHTML, like Gecko) Chrome/39.0.2171.95 Safari/537.36'}\n",
    "    res = requests.get(url, headers=headers)\n",
    "    content = BeautifulSoup(res.text)\n",
    "    return content"
   ]
  },
  {
   "cell_type": "code",
   "execution_count": 3,
   "metadata": {},
   "outputs": [],
   "source": [
    "def Parse(content):\n",
    "    #soup = GetPageContent('https://www.mobile01.com/' + url)\n",
    "    #origin = soup.find('div', {'class':'single-post-content'}) # 文章內文在 <div class=\"single-post-content\"> 底下\n",
    "    origin = content\n",
    "    if origin:\n",
    "        content = str(origin)\n",
    "        # replace <br>, <br\\> and '\\n' with a whitespace########\n",
    "        content = re.sub(\"<br\\s*>\", \" \", content, flags=re.I)  #\n",
    "        content = re.sub(\"<br\\s*/>\", \" \", content, flags=re.I) #\n",
    "        content = re.sub(\"\\n+\", \" \", content, flags=re.I)      #\n",
    "        ########################################################\n",
    "        # remove hyperlink\n",
    "        content = re.sub(\"<a\\s+[^<>]+>(?P<aContent>[^<>]+?)</a>\", \"\\g<aContent>\", content, flags=re.I)\n",
    "        content = BeautifulSoup(content)\n",
    "        content = ' '.join(content.text.lstrip().rstrip().split())\n",
    "    else:\n",
    "        content = 'None'\n",
    "\n",
    "    return content"
   ]
  },
  {
   "cell_type": "code",
   "execution_count": 78,
   "metadata": {},
   "outputs": [],
   "source": [
    "def GetPageReviews(url):\n",
    "    All_page_Contents = GetPageContent(url)\n",
    "    Review_list = All_page_Contents.find_all('div',{'class':'l-articlePage'})\n",
    "    \n",
    "    resp = list()\n",
    "    \n",
    "    for i in range(len(Review_list)):\n",
    "        date = datetime.datetime.strptime((Review_list[0].find('span',{'class':'o-fNotes o-fSubMini'})).text, '%Y-%m-%d %H:%M')\n",
    "        topic = All_page_Contents.find('h2',{'class':'t2'}).text\n",
    "        review = Parse(Review_list[i].find('article').text) \n",
    "        id = Parse(Review_list[i])\n",
    "        \n",
    "        resp.append({\n",
    "            'date':date,\n",
    "            'topic':topic,\n",
    "            'review':review,\n",
    "            'id':id,\n",
    "            'url':url\n",
    "        })\n",
    "        \n",
    "    return resp"
   ]
  },
  {
   "cell_type": "code",
   "execution_count": 83,
   "metadata": {},
   "outputs": [],
   "source": [
    "def Save2Excel(posts):\n",
    "    topics = [entry['topic'] for entry in posts]\n",
    "    links = [entry['url'] for entry in posts]\n",
    "    dates = [entry['date'] for entry in posts]\n",
    "    authors = [entry['id'] for entry in posts]\n",
    "    contents = [entry['review'] for entry in posts]\n",
    "    df = DataFrame({\n",
    "        '主題':topics,\n",
    "        'URL':links,\n",
    "        'date': dates,\n",
    "        'id':authors,\n",
    "        '留言': contents\n",
    "        })\n",
    "    df.to_excel('data.xlsx', sheet_name='sheet1', index=False, columns=['發文周','date','Series','主題','id','留言','留言好感度','留言Feature','URL','留言型號','非競品品牌','非競品型號','文章好感度','文章feature'])"
   ]
  },
  {
   "cell_type": "code",
   "execution_count": 84,
   "metadata": {},
   "outputs": [],
   "source": [
    "url = 'https://www.mobile01.com/topicdetail.php?f=233&t=5863040'"
   ]
  },
  {
   "cell_type": "code",
   "execution_count": 85,
   "metadata": {},
   "outputs": [],
   "source": [
    "K =  GetPageReviews(url)"
   ]
  },
  {
   "cell_type": "code",
   "execution_count": 86,
   "metadata": {},
   "outputs": [],
   "source": [
    "Save2Excel(K)"
   ]
  },
  {
   "cell_type": "code",
   "execution_count": 58,
   "metadata": {},
   "outputs": [],
   "source": [
    "All_page_Contents = GetPageContent(url)"
   ]
  },
  {
   "cell_type": "code",
   "execution_count": 59,
   "metadata": {},
   "outputs": [],
   "source": [
    "Review_list = All_page_Contents.find_all('div',{'class':'l-articlePage'})"
   ]
  },
  {
   "cell_type": "code",
   "execution_count": 67,
   "metadata": {},
   "outputs": [
    {
     "data": {
      "text/plain": [
       "'2019-08-04 14:44'"
      ]
     },
     "execution_count": 67,
     "metadata": {},
     "output_type": "execute_result"
    }
   ],
   "source": [
    "(Review_list[0].find('span',{'class':'o-fNotes o-fSubMini'})).text"
   ]
  },
  {
   "cell_type": "code",
   "execution_count": 26,
   "metadata": {},
   "outputs": [],
   "source": [
    "date_time_obj = datetime.datetime.strptime(J[0].text, '%Y-%m-%d %H:%M')"
   ]
  },
  {
   "cell_type": "code",
   "execution_count": 27,
   "metadata": {},
   "outputs": [
    {
     "data": {
      "text/plain": [
       "datetime.datetime(2019, 8, 4, 14, 44)"
      ]
     },
     "execution_count": 27,
     "metadata": {},
     "output_type": "execute_result"
    }
   ],
   "source": [
    "date_time_obj"
   ]
  },
  {
   "cell_type": "code",
   "execution_count": null,
   "metadata": {},
   "outputs": [],
   "source": []
  }
 ],
 "metadata": {
  "kernelspec": {
   "display_name": "Python 3",
   "language": "python",
   "name": "python3"
  },
  "language_info": {
   "codemirror_mode": {
    "name": "ipython",
    "version": 3
   },
   "file_extension": ".py",
   "mimetype": "text/x-python",
   "name": "python",
   "nbconvert_exporter": "python",
   "pygments_lexer": "ipython3",
   "version": "3.7.3"
  }
 },
 "nbformat": 4,
 "nbformat_minor": 2
}
